{
  "nbformat": 4,
  "nbformat_minor": 0,
  "metadata": {
    "colab": {
      "name": "PAI_Assignment5.ipynb",
      "provenance": [],
      "collapsed_sections": [],
      "authorship_tag": "ABX9TyPnli3Br2zJ1SZ5YRDz1z9R",
      "include_colab_link": true
    },
    "kernelspec": {
      "name": "python3",
      "display_name": "Python 3"
    },
    "language_info": {
      "name": "python"
    },
    "accelerator": "GPU"
  },
  "cells": [
    {
      "cell_type": "markdown",
      "metadata": {
        "id": "view-in-github",
        "colab_type": "text"
      },
      "source": [
        "<a href=\"https://colab.research.google.com/github/hany606/PAI_Fall21IU/blob/main/Assignments/Assignment5/PAI_Assignment5.ipynb\" target=\"_parent\"><img src=\"https://colab.research.google.com/assets/colab-badge.svg\" alt=\"Open In Colab\"/></a>"
      ]
    },
    {
      "cell_type": "markdown",
      "metadata": {
        "id": "qu9VLUpV6Xge"
      },
      "source": [
        "# Source: the code was built on this tutorial: https://www.thepythoncode.com/article/build-spam-classifier-keras-python\n",
        "\n",
        "Student: Hany Hamed\n",
        "Assignment 5 - PAI Course\n",
        "\n",
        "\n",
        "Please use Google Colab to run the notebook\n",
        "\n",
        "Sources:\n",
        "* https://www.thepythoncode.com/article/build-spam-classifier-keras-python\n",
        "* https://towardsdatascience.com/nlp-spam-detection-in-sms-text-data-using-deep-learning-b8632db85cc8\n",
        "* https://towardsdatascience.com/nlp-detecting-spam-messages-with-tensorflow-b12195b8cf0e"
      ]
    },
    {
      "cell_type": "markdown",
      "metadata": {
        "id": "lqKTizcJ4qjG"
      },
      "source": [
        "## Setup Env"
      ]
    },
    {
      "cell_type": "code",
      "metadata": {
        "colab": {
          "base_uri": "https://localhost:8080/"
        },
        "id": "LfxwUBxZ7RDp",
        "outputId": "960fb157-b1a6-4683-cf92-4227292b0604"
      },
      "source": [
        "!pip install gdown\n",
        "!pip install tqdm\n",
        "!pip install keras-metrics\n",
        "!pip install mglearn"
      ],
      "execution_count": 16,
      "outputs": [
        {
          "output_type": "stream",
          "name": "stdout",
          "text": [
            "Requirement already satisfied: gdown in /usr/local/lib/python3.7/dist-packages (3.6.4)\n",
            "Requirement already satisfied: tqdm in /usr/local/lib/python3.7/dist-packages (from gdown) (4.62.2)\n",
            "Requirement already satisfied: requests in /usr/local/lib/python3.7/dist-packages (from gdown) (2.23.0)\n",
            "Requirement already satisfied: six in /usr/local/lib/python3.7/dist-packages (from gdown) (1.15.0)\n",
            "Requirement already satisfied: idna<3,>=2.5 in /usr/local/lib/python3.7/dist-packages (from requests->gdown) (2.10)\n",
            "Requirement already satisfied: urllib3!=1.25.0,!=1.25.1,<1.26,>=1.21.1 in /usr/local/lib/python3.7/dist-packages (from requests->gdown) (1.24.3)\n",
            "Requirement already satisfied: chardet<4,>=3.0.2 in /usr/local/lib/python3.7/dist-packages (from requests->gdown) (3.0.4)\n",
            "Requirement already satisfied: certifi>=2017.4.17 in /usr/local/lib/python3.7/dist-packages (from requests->gdown) (2021.5.30)\n",
            "Requirement already satisfied: tqdm in /usr/local/lib/python3.7/dist-packages (4.62.2)\n",
            "Requirement already satisfied: keras-metrics in /usr/local/lib/python3.7/dist-packages (1.1.0)\n",
            "Requirement already satisfied: Keras>=2.1.5 in /usr/local/lib/python3.7/dist-packages (from keras-metrics) (2.6.0)\n",
            "Requirement already satisfied: mglearn in /usr/local/lib/python3.7/dist-packages (0.1.9)\n",
            "Requirement already satisfied: matplotlib in /usr/local/lib/python3.7/dist-packages (from mglearn) (3.2.2)\n",
            "Requirement already satisfied: pandas in /usr/local/lib/python3.7/dist-packages (from mglearn) (1.1.5)\n",
            "Requirement already satisfied: joblib in /usr/local/lib/python3.7/dist-packages (from mglearn) (1.0.1)\n",
            "Requirement already satisfied: pillow in /usr/local/lib/python3.7/dist-packages (from mglearn) (7.1.2)\n",
            "Requirement already satisfied: cycler in /usr/local/lib/python3.7/dist-packages (from mglearn) (0.10.0)\n",
            "Requirement already satisfied: scikit-learn in /usr/local/lib/python3.7/dist-packages (from mglearn) (0.22.2.post1)\n",
            "Requirement already satisfied: numpy in /usr/local/lib/python3.7/dist-packages (from mglearn) (1.19.5)\n",
            "Requirement already satisfied: imageio in /usr/local/lib/python3.7/dist-packages (from mglearn) (2.4.1)\n",
            "Requirement already satisfied: six in /usr/local/lib/python3.7/dist-packages (from cycler->mglearn) (1.15.0)\n",
            "Requirement already satisfied: pyparsing!=2.0.4,!=2.1.2,!=2.1.6,>=2.0.1 in /usr/local/lib/python3.7/dist-packages (from matplotlib->mglearn) (2.4.7)\n",
            "Requirement already satisfied: python-dateutil>=2.1 in /usr/local/lib/python3.7/dist-packages (from matplotlib->mglearn) (2.8.2)\n",
            "Requirement already satisfied: kiwisolver>=1.0.1 in /usr/local/lib/python3.7/dist-packages (from matplotlib->mglearn) (1.3.2)\n",
            "Requirement already satisfied: pytz>=2017.2 in /usr/local/lib/python3.7/dist-packages (from pandas->mglearn) (2018.9)\n",
            "Requirement already satisfied: scipy>=0.17.0 in /usr/local/lib/python3.7/dist-packages (from scikit-learn->mglearn) (1.4.1)\n"
          ]
        }
      ]
    },
    {
      "cell_type": "code",
      "metadata": {
        "id": "9xW28PG77YDs"
      },
      "source": [
        "from IPython.display import clear_output"
      ],
      "execution_count": 17,
      "outputs": []
    },
    {
      "cell_type": "code",
      "metadata": {
        "id": "55f5vxvN4nXc"
      },
      "source": [
        "!gdown https://drive.google.com/uc?id=1ffKtoa5y6MlXfzTr79lJ1OnV8u9Z96WH\n",
        "!unzip smsspamcollection.zip\n",
        "clear_output()"
      ],
      "execution_count": 18,
      "outputs": []
    },
    {
      "cell_type": "code",
      "metadata": {
        "id": "jC9-0cc9Sl0z"
      },
      "source": [
        "# Source: https://stackoverflow.com/questions/50060241/how-to-use-glove-word-embeddings-file-on-google-colaboratory\n",
        "!wget http://nlp.stanford.edu/data/glove.6B.zip\n",
        "!unzip glove*.zip\n",
        "clear_output()"
      ],
      "execution_count": 19,
      "outputs": []
    },
    {
      "cell_type": "code",
      "metadata": {
        "id": "p7b9Z2917mhV",
        "colab": {
          "base_uri": "https://localhost:8080/"
        },
        "outputId": "314fc16d-7a8f-491e-b0a9-9b8a195ed046"
      },
      "source": [
        "!ls"
      ],
      "execution_count": 20,
      "outputs": [
        {
          "output_type": "stream",
          "name": "stdout",
          "text": [
            "glove.6B.100d.txt  glove.6B.zip    SMSSpamCollection.txt\n",
            "glove.6B.200d.txt  glove.6B.zip.1  smsspamcollection.zip\n",
            "glove.6B.300d.txt  readme\n",
            "glove.6B.50d.txt   sample_data\n"
          ]
        }
      ]
    },
    {
      "cell_type": "code",
      "metadata": {
        "id": "ymLtVVmUM2_W"
      },
      "source": [
        "%matplotlib inline\n",
        "import pandas as pd\n",
        "import numpy as np\n",
        "from tensorflow.keras.preprocessing.text import Tokenizer\n",
        "from tensorflow.keras.preprocessing.sequence import pad_sequences\n",
        "from tensorflow.keras.utils import to_categorical\n",
        "from sklearn.model_selection import train_test_split\n",
        "from tensorflow.keras.layers import Embedding, LSTM, Dropout, Dense\n",
        "from tensorflow.keras.models import Sequential\n",
        "from tensorflow.keras.metrics import Recall, Precision\n",
        "from sklearn.preprocessing import RobustScaler\n",
        "from tqdm import tqdm\n",
        "import keras_metrics as km\n",
        "import matplotlib.pyplot as plt\n",
        "from wordcloud import WordCloud, STOPWORDS, ImageColorGenerator"
      ],
      "execution_count": 23,
      "outputs": []
    },
    {
      "cell_type": "markdown",
      "metadata": {
        "id": "P1vDVOdIplGL"
      },
      "source": [
        "## Data Loading"
      ]
    },
    {
      "cell_type": "code",
      "metadata": {
        "id": "blVa5q8M43gu",
        "colab": {
          "base_uri": "https://localhost:8080/",
          "height": 203
        },
        "outputId": "e7cd0dcd-66ff-4d01-f345-2e0077ffa179"
      },
      "source": [
        "\n",
        "data = []\n",
        "mx_length = 0\n",
        "# Read/Parse the data\n",
        "with open(\"SMSSpamCollection.txt\", \"r\") as f:\n",
        "    lines = f.readlines()\n",
        "    for line in lines:\n",
        "        e = line.split(\"\\t\")\n",
        "        # data.append([e[0], \"\".join(e[1:])])\n",
        "        # data.append([np.array([0,1]) if e[0] == \"ham\" else np.array([1,0]), \"\".join(e[1:])])\n",
        "        data.append([0 if e[0] == \"ham\" else 1, \"\".join(e[1:])])\n",
        "        mx_length = max(mx_length, len(e[1]))\n",
        "\n",
        "# mx_length = ?\n",
        "# Add it to pandas\n",
        "df = pd.DataFrame(np.array(data).reshape((-1,2)), columns=[\"labels\", \"txt\"])\n",
        "df.head(5)\n",
        "# df[\"labels\"].head(5)"
      ],
      "execution_count": 24,
      "outputs": [
        {
          "output_type": "execute_result",
          "data": {
            "text/html": [
              "<div>\n",
              "<style scoped>\n",
              "    .dataframe tbody tr th:only-of-type {\n",
              "        vertical-align: middle;\n",
              "    }\n",
              "\n",
              "    .dataframe tbody tr th {\n",
              "        vertical-align: top;\n",
              "    }\n",
              "\n",
              "    .dataframe thead th {\n",
              "        text-align: right;\n",
              "    }\n",
              "</style>\n",
              "<table border=\"1\" class=\"dataframe\">\n",
              "  <thead>\n",
              "    <tr style=\"text-align: right;\">\n",
              "      <th></th>\n",
              "      <th>labels</th>\n",
              "      <th>txt</th>\n",
              "    </tr>\n",
              "  </thead>\n",
              "  <tbody>\n",
              "    <tr>\n",
              "      <th>0</th>\n",
              "      <td>0</td>\n",
              "      <td>Go until jurong point, crazy.. Available only ...</td>\n",
              "    </tr>\n",
              "    <tr>\n",
              "      <th>1</th>\n",
              "      <td>0</td>\n",
              "      <td>Ok lar... Joking wif u oni...\\n</td>\n",
              "    </tr>\n",
              "    <tr>\n",
              "      <th>2</th>\n",
              "      <td>1</td>\n",
              "      <td>Free entry in 2 a wkly comp to win FA Cup fina...</td>\n",
              "    </tr>\n",
              "    <tr>\n",
              "      <th>3</th>\n",
              "      <td>0</td>\n",
              "      <td>U dun say so early hor... U c already then say...</td>\n",
              "    </tr>\n",
              "    <tr>\n",
              "      <th>4</th>\n",
              "      <td>0</td>\n",
              "      <td>Nah I don't think he goes to usf, he lives aro...</td>\n",
              "    </tr>\n",
              "  </tbody>\n",
              "</table>\n",
              "</div>"
            ],
            "text/plain": [
              "  labels                                                txt\n",
              "0      0  Go until jurong point, crazy.. Available only ...\n",
              "1      0                    Ok lar... Joking wif u oni...\\n\n",
              "2      1  Free entry in 2 a wkly comp to win FA Cup fina...\n",
              "3      0  U dun say so early hor... U c already then say...\n",
              "4      0  Nah I don't think he goes to usf, he lives aro..."
            ]
          },
          "metadata": {},
          "execution_count": 24
        }
      ]
    },
    {
      "cell_type": "code",
      "metadata": {
        "colab": {
          "base_uri": "https://localhost:8080/"
        },
        "id": "Qpf6tPEVM8kW",
        "outputId": "f750763e-6b1c-406c-975c-03c68f977956"
      },
      "source": [
        "tokenizer = Tokenizer() # Tokenizer in order to tokenize the txt\n",
        "tokenizer.fit_on_texts(df[\"txt\"])\n",
        "X = np.array(tokenizer.texts_to_sequences(df[\"txt\"]))\n",
        "X = pad_sequences(X, maxlen=mx_length)  # pad the txt to have the same length\n",
        "Y = np.array(df[\"labels\"], dtype=np.int8)\n",
        "Y = to_categorical(Y)   #-> Converts a class vector (integers) to binary class matrix."
      ],
      "execution_count": 25,
      "outputs": [
        {
          "output_type": "stream",
          "name": "stderr",
          "text": [
            "/usr/local/lib/python3.7/dist-packages/ipykernel_launcher.py:3: VisibleDeprecationWarning: Creating an ndarray from ragged nested sequences (which is a list-or-tuple of lists-or-tuples-or ndarrays with different lengths or shapes) is deprecated. If you meant to do this, you must specify 'dtype=object' when creating the ndarray\n",
            "  This is separate from the ipykernel package so we can avoid doing imports until\n"
          ]
        }
      ]
    },
    {
      "cell_type": "code",
      "metadata": {
        "id": "ipHvqeH54zld",
        "colab": {
          "base_uri": "https://localhost:8080/"
        },
        "outputId": "c0d49824-dcaf-4566-97eb-87845778ed90"
      },
      "source": [
        "# Split the data\n",
        "x_train, x_test, y_train, y_test = train_test_split(X, Y, test_size=0.1, stratify=Y, random_state=123)\n",
        "print(f\"x_train shape: {x_train.shape}\\ty_train shape: {y_train.shape}\")\n",
        "print(f\"x_test shape: {x_test.shape}\\ty_test shape: {y_test.shape}\")"
      ],
      "execution_count": 26,
      "outputs": [
        {
          "output_type": "stream",
          "name": "stdout",
          "text": [
            "x_train shape: (5016, 911)\ty_train shape: (5016, 2)\n",
            "x_test shape: (558, 911)\ty_test shape: (558, 2)\n"
          ]
        }
      ]
    },
    {
      "cell_type": "code",
      "metadata": {
        "colab": {
          "base_uri": "https://localhost:8080/"
        },
        "id": "I5rYBLm-N_-Y",
        "outputId": "c1b9b81b-73ec-48b4-87f7-8075c7b15037"
      },
      "source": [
        "print(X[0],Y[0])"
      ],
      "execution_count": 27,
      "outputs": [
        {
          "output_type": "stream",
          "name": "stdout",
          "text": [
            "[   0    0    0    0    0    0    0    0    0    0    0    0    0    0\n",
            "    0    0    0    0    0    0    0    0    0    0    0    0    0    0\n",
            "    0    0    0    0    0    0    0    0    0    0    0    0    0    0\n",
            "    0    0    0    0    0    0    0    0    0    0    0    0    0    0\n",
            "    0    0    0    0    0    0    0    0    0    0    0    0    0    0\n",
            "    0    0    0    0    0    0    0    0    0    0    0    0    0    0\n",
            "    0    0    0    0    0    0    0    0    0    0    0    0    0    0\n",
            "    0    0    0    0    0    0    0    0    0    0    0    0    0    0\n",
            "    0    0    0    0    0    0    0    0    0    0    0    0    0    0\n",
            "    0    0    0    0    0    0    0    0    0    0    0    0    0    0\n",
            "    0    0    0    0    0    0    0    0    0    0    0    0    0    0\n",
            "    0    0    0    0    0    0    0    0    0    0    0    0    0    0\n",
            "    0    0    0    0    0    0    0    0    0    0    0    0    0    0\n",
            "    0    0    0    0    0    0    0    0    0    0    0    0    0    0\n",
            "    0    0    0    0    0    0    0    0    0    0    0    0    0    0\n",
            "    0    0    0    0    0    0    0    0    0    0    0    0    0    0\n",
            "    0    0    0    0    0    0    0    0    0    0    0    0    0    0\n",
            "    0    0    0    0    0    0    0    0    0    0    0    0    0    0\n",
            "    0    0    0    0    0    0    0    0    0    0    0    0    0    0\n",
            "    0    0    0    0    0    0    0    0    0    0    0    0    0    0\n",
            "    0    0    0    0    0    0    0    0    0    0    0    0    0    0\n",
            "    0    0    0    0    0    0    0    0    0    0    0    0    0    0\n",
            "    0    0    0    0    0    0    0    0    0    0    0    0    0    0\n",
            "    0    0    0    0    0    0    0    0    0    0    0    0    0    0\n",
            "    0    0    0    0    0    0    0    0    0    0    0    0    0    0\n",
            "    0    0    0    0    0    0    0    0    0    0    0    0    0    0\n",
            "    0    0    0    0    0    0    0    0    0    0    0    0    0    0\n",
            "    0    0    0    0    0    0    0    0    0    0    0    0    0    0\n",
            "    0    0    0    0    0    0    0    0    0    0    0    0    0    0\n",
            "    0    0    0    0    0    0    0    0    0    0    0    0    0    0\n",
            "    0    0    0    0    0    0    0    0    0    0    0    0    0    0\n",
            "    0    0    0    0    0    0    0    0    0    0    0    0    0    0\n",
            "    0    0    0    0    0    0    0    0    0    0    0    0    0    0\n",
            "    0    0    0    0    0    0    0    0    0    0    0    0    0    0\n",
            "    0    0    0    0    0    0    0    0    0    0    0    0    0    0\n",
            "    0    0    0    0    0    0    0    0    0    0    0    0    0    0\n",
            "    0    0    0    0    0    0    0    0    0    0    0    0    0    0\n",
            "    0    0    0    0    0    0    0    0    0    0    0    0    0    0\n",
            "    0    0    0    0    0    0    0    0    0    0    0    0    0    0\n",
            "    0    0    0    0    0    0    0    0    0    0    0    0    0    0\n",
            "    0    0    0    0    0    0    0    0    0    0    0    0    0    0\n",
            "    0    0    0    0    0    0    0    0    0    0    0    0    0    0\n",
            "    0    0    0    0    0    0    0    0    0    0    0    0    0    0\n",
            "    0    0    0    0    0    0    0    0    0    0    0    0    0    0\n",
            "    0    0    0    0    0    0    0    0    0    0    0    0    0    0\n",
            "    0    0    0    0    0    0    0    0    0    0    0    0    0    0\n",
            "    0    0    0    0    0    0    0    0    0    0    0    0    0    0\n",
            "    0    0    0    0    0    0    0    0    0    0    0    0    0    0\n",
            "    0    0    0    0    0    0    0    0    0    0    0    0    0    0\n",
            "    0    0    0    0    0    0    0    0    0    0    0    0    0    0\n",
            "    0    0    0    0    0    0    0    0    0    0    0    0    0    0\n",
            "    0    0    0    0    0    0    0    0    0    0    0    0    0    0\n",
            "    0    0    0    0    0    0    0    0    0    0    0    0    0    0\n",
            "    0    0    0    0    0    0    0    0    0    0    0    0    0    0\n",
            "    0    0    0    0    0    0    0    0    0    0    0    0    0    0\n",
            "    0    0    0    0    0    0    0    0    0    0    0    0    0    0\n",
            "    0    0    0    0    0    0    0    0    0    0    0    0    0    0\n",
            "    0    0    0    0    0    0    0    0    0    0    0    0    0    0\n",
            "    0    0    0    0    0    0    0    0    0    0    0    0    0    0\n",
            "    0    0    0    0    0    0    0    0    0    0    0    0    0    0\n",
            "    0    0    0    0    0    0    0    0    0    0    0    0    0    0\n",
            "    0    0    0    0    0    0    0    0    0    0    0    0    0    0\n",
            "    0    0    0    0    0    0    0    0    0    0    0    0    0    0\n",
            "    0    0    0    0    0    0    0    0    0   49  471 4435  842  755\n",
            "  658   64    8 1327   88  123  351 1328  148 2996 1329   67   58 4436\n",
            "  144] [1. 0.]\n"
          ]
        }
      ]
    },
    {
      "cell_type": "code",
      "metadata": {
        "colab": {
          "base_uri": "https://localhost:8080/"
        },
        "id": "VE2j87yoRUw-",
        "outputId": "6f1f4920-5d3a-4c7b-e432-ae882128b3ef"
      },
      "source": [
        "print(\"% of test data to all data:\", len(x_test)/(len(x_train)+len(x_test)))\n",
        "print('% of spam samples in train set:', sum([yi[0] == 0 for yi in y_train]) / len(y_train))\n",
        "print('% of spam samples in test set:', sum([yi[0] == 0 for yi in y_train]) / len(y_test))"
      ],
      "execution_count": 12,
      "outputs": [
        {
          "output_type": "stream",
          "name": "stdout",
          "text": [
            "% of test data to all data: 0.10010764262648009\n",
            "% of spam samples in train set: 0.1339712918660287\n",
            "% of spam samples in test set: 1.2043010752688172\n"
          ]
        }
      ]
    },
    {
      "cell_type": "markdown",
      "metadata": {
        "id": "syic0PQEpjcO"
      },
      "source": [
        "## Model"
      ]
    },
    {
      "cell_type": "code",
      "metadata": {
        "id": "jjKwneTB6HLC"
      },
      "source": [
        "# Using Glove model in order to get the embedding matrix for the embedding layer\n",
        "def get_embedding_vectors(tokenizer, dim=100):\n",
        "    embedding_index = {}\n",
        "    with open(f\"glove.6B.{dim}d.txt\", encoding='utf8') as f:\n",
        "        for line in tqdm(f, \"Reading GloVe\"):\n",
        "            values = line.split()\n",
        "            word = values[0]\n",
        "            vectors = np.asarray(values[1:], dtype='float32')\n",
        "            embedding_index[word] = vectors\n",
        "\n",
        "    word_index = tokenizer.word_index\n",
        "    embedding_matrix = np.zeros((len(word_index)+1, dim))\n",
        "    for word, i in word_index.items():\n",
        "        embedding_vector = embedding_index.get(word)\n",
        "        if embedding_vector is not None:\n",
        "            # words not found will be 0s\n",
        "            embedding_matrix[i] = embedding_vector\n",
        "            \n",
        "    return embedding_matrix\n",
        "\n",
        "\n",
        "def get_model(tokenizer, lstm_units):\n",
        "    embedding_matrix = get_embedding_vectors(tokenizer)\n",
        "    model = Sequential()\n",
        "    model.add(Embedding(len(tokenizer.word_index)+1,\n",
        "                        100,\n",
        "                        weights=[embedding_matrix],\n",
        "                        trainable=False,\n",
        "                        input_length=mx_length)\n",
        "            )\n",
        "\n",
        "    model.add(LSTM(lstm_units, recurrent_dropout=0.2))\n",
        "    model.add(Dropout(0.3))\n",
        "    model.add(Dense(2, activation=\"softmax\"))\n",
        "    model.compile(optimizer=\"rmsprop\", loss=\"categorical_crossentropy\",\n",
        "                  metrics=[\"accuracy\", km.precision(), km.recall()])\n",
        "    model.summary()\n",
        "    return model\n"
      ],
      "execution_count": 13,
      "outputs": []
    },
    {
      "cell_type": "code",
      "metadata": {
        "colab": {
          "base_uri": "https://localhost:8080/"
        },
        "id": "jTTat1_fVJ8P",
        "outputId": "74b3a374-cdae-413e-859b-72460c612652"
      },
      "source": [
        "model = get_model(tokenizer=tokenizer, lstm_units=50)"
      ],
      "execution_count": 14,
      "outputs": [
        {
          "output_type": "stream",
          "name": "stderr",
          "text": [
            "Reading GloVe: 400000it [00:12, 31731.29it/s]\n"
          ]
        },
        {
          "output_type": "stream",
          "name": "stdout",
          "text": [
            "WARNING:tensorflow:Layer lstm will not use cuDNN kernels since it doesn't meet the criteria. It will use a generic GPU kernel as fallback when running on GPU.\n",
            "Model: \"sequential\"\n",
            "_________________________________________________________________\n",
            "Layer (type)                 Output Shape              Param #   \n",
            "=================================================================\n",
            "embedding (Embedding)        (None, 911, 100)          901000    \n",
            "_________________________________________________________________\n",
            "lstm (LSTM)                  (None, 50)                30200     \n",
            "_________________________________________________________________\n",
            "dropout (Dropout)            (None, 50)                0         \n",
            "_________________________________________________________________\n",
            "dense (Dense)                (None, 2)                 102       \n",
            "=================================================================\n",
            "Total params: 931,302\n",
            "Trainable params: 30,302\n",
            "Non-trainable params: 901,000\n",
            "_________________________________________________________________\n"
          ]
        }
      ]
    },
    {
      "cell_type": "markdown",
      "metadata": {
        "id": "5jUrd3Kyph01"
      },
      "source": [
        "## Training"
      ]
    },
    {
      "cell_type": "code",
      "metadata": {
        "id": "LwtPe0KE6sbi",
        "colab": {
          "base_uri": "https://localhost:8080/"
        },
        "outputId": "5ca498f7-c22d-4e7d-92f9-5bb64021973e"
      },
      "source": [
        "# Training\n",
        "model.fit(x_train, y_train, validation_data=(x_test, y_test),\n",
        "          batch_size=512, epochs=5,\n",
        "          verbose=1)"
      ],
      "execution_count": 28,
      "outputs": [
        {
          "output_type": "stream",
          "name": "stdout",
          "text": [
            "Epoch 1/5\n",
            "WARNING:tensorflow:`add_update` `inputs` kwarg has been deprecated. You no longer need to pass a value to `inputs` as it is being automatically inferred.\n",
            "WARNING:tensorflow:`add_update` `inputs` kwarg has been deprecated. You no longer need to pass a value to `inputs` as it is being automatically inferred.\n",
            "WARNING:tensorflow:`add_update` `inputs` kwarg has been deprecated. You no longer need to pass a value to `inputs` as it is being automatically inferred.\n",
            "WARNING:tensorflow:`add_update` `inputs` kwarg has been deprecated. You no longer need to pass a value to `inputs` as it is being automatically inferred.\n"
          ]
        },
        {
          "output_type": "stream",
          "name": "stderr",
          "text": [
            "/usr/local/lib/python3.7/dist-packages/keras/engine/base_layer.py:1348: UserWarning: `layer.updates` will be removed in a future version. This property should not be used in TensorFlow 2.0, as `updates` are applied automatically.\n",
            "  warnings.warn('`layer.updates` will be removed in a future version. '\n"
          ]
        },
        {
          "output_type": "stream",
          "name": "stdout",
          "text": [
            "WARNING:tensorflow:`add_update` `inputs` kwarg has been deprecated. You no longer need to pass a value to `inputs` as it is being automatically inferred.\n",
            "WARNING:tensorflow:`add_update` `inputs` kwarg has been deprecated. You no longer need to pass a value to `inputs` as it is being automatically inferred.\n",
            "WARNING:tensorflow:`add_update` `inputs` kwarg has been deprecated. You no longer need to pass a value to `inputs` as it is being automatically inferred.\n",
            "WARNING:tensorflow:`add_update` `inputs` kwarg has been deprecated. You no longer need to pass a value to `inputs` as it is being automatically inferred.\n",
            "10/10 [==============================] - ETA: 0s - loss: 0.4489 - accuracy: 0.7905 - precision: 0.8429 - recall: 0.7233WARNING:tensorflow:`add_update` `inputs` kwarg has been deprecated. You no longer need to pass a value to `inputs` as it is being automatically inferred.\n",
            "WARNING:tensorflow:`add_update` `inputs` kwarg has been deprecated. You no longer need to pass a value to `inputs` as it is being automatically inferred.\n",
            "WARNING:tensorflow:`add_update` `inputs` kwarg has been deprecated. You no longer need to pass a value to `inputs` as it is being automatically inferred.\n",
            "WARNING:tensorflow:`add_update` `inputs` kwarg has been deprecated. You no longer need to pass a value to `inputs` as it is being automatically inferred.\n",
            "10/10 [==============================] - 55s 5s/step - loss: 0.4489 - accuracy: 0.7905 - precision: 0.8429 - recall: 0.7233 - val_loss: 0.3022 - val_accuracy: 0.8746 - val_precision: 0.8665 - val_recall: 0.9072\n",
            "Epoch 2/5\n",
            "10/10 [==============================] - 50s 5s/step - loss: 0.2481 - accuracy: 0.9061 - precision: 0.8750 - recall: 0.9357 - val_loss: 0.1933 - val_accuracy: 0.9606 - val_precision: 0.8896 - val_recall: 0.9505\n",
            "Epoch 3/5\n",
            "10/10 [==============================] - 50s 5s/step - loss: 0.1533 - accuracy: 0.9547 - precision: 0.9040 - recall: 0.9559 - val_loss: 0.1411 - val_accuracy: 0.9588 - val_precision: 0.9148 - val_recall: 0.9606\n",
            "Epoch 4/5\n",
            "10/10 [==============================] - 49s 5s/step - loss: 0.1212 - accuracy: 0.9627 - precision: 0.9233 - recall: 0.9635 - val_loss: 0.1228 - val_accuracy: 0.9642 - val_precision: 0.9297 - val_recall: 0.9657\n",
            "Epoch 5/5\n",
            "10/10 [==============================] - 49s 5s/step - loss: 0.1057 - accuracy: 0.9675 - precision: 0.9349 - recall: 0.9680 - val_loss: 0.1306 - val_accuracy: 0.9624 - val_precision: 0.9387 - val_recall: 0.9698\n"
          ]
        },
        {
          "output_type": "execute_result",
          "data": {
            "text/plain": [
              "<keras.callbacks.History at 0x7f06850c9950>"
            ]
          },
          "metadata": {},
          "execution_count": 28
        }
      ]
    },
    {
      "cell_type": "markdown",
      "metadata": {
        "id": "mDCv3k5FpdCP"
      },
      "source": [
        "## Evaluation results\n"
      ]
    },
    {
      "cell_type": "code",
      "metadata": {
        "colab": {
          "base_uri": "https://localhost:8080/"
        },
        "id": "ZquJHtZUSYDp",
        "outputId": "96f79307-7e2c-448f-893d-d225f2930b85"
      },
      "source": [
        "result = model.evaluate(x_test, y_test)\n",
        "loss = result[0]\n",
        "accuracy = result[1]\n",
        "precision = result[2]\n",
        "recall = result[3]\n",
        "\n",
        "print(f\"Accuracy: {accuracy*100:.2f}%\")\n",
        "print(f\"Precision:   {precision*100:.2f}%\")\n",
        "print(f\"Recall:   {recall*100:.2f}%\")\n"
      ],
      "execution_count": 29,
      "outputs": [
        {
          "output_type": "stream",
          "name": "stdout",
          "text": [
            "18/18 [==============================] - 6s 308ms/step - loss: 0.1306 - accuracy: 0.9624 - precision: 0.9390 - recall: 0.9701\n",
            "Accuracy: 96.24%\n",
            "Precision:   93.90%\n",
            "Recall:   97.01%\n"
          ]
        }
      ]
    },
    {
      "cell_type": "code",
      "metadata": {
        "colab": {
          "base_uri": "https://localhost:8080/"
        },
        "id": "gsj08JVIS9ex",
        "outputId": "ab7c3c54-37f1-4d08-b87f-7d61ca4ad759"
      },
      "source": [
        "# Some testing\n",
        "def get_predictions(text):\n",
        "    sequence = tokenizer.texts_to_sequences([text])\n",
        "    # pad the sequence\n",
        "    sequence = pad_sequences(sequence, maxlen=mx_length)\n",
        "    # get the prediction\n",
        "    prediction = model.predict(sequence)[0]\n",
        "    print(prediction)\n",
        "    # one-hot encoded vector, revert using np.argmax\n",
        "    return [\"ham\", \"spam\"][np.argmax(prediction)]\n",
        "\n",
        "text = \"Congratulations, you won a prize of 100,000$, click here to claim your prize!\"\n",
        "print(get_predictions(text))\n",
        "\n",
        "text = \"Hello professor! I want to get an A grade, please!\"\n",
        "print(get_predictions(text))"
      ],
      "execution_count": 30,
      "outputs": [
        {
          "output_type": "stream",
          "name": "stdout",
          "text": [
            "[0.63511723 0.36488277]\n",
            "ham\n",
            "[0.99756926 0.00243074]\n",
            "ham\n"
          ]
        }
      ]
    },
    {
      "cell_type": "markdown",
      "metadata": {
        "id": "08F6afX9pezt"
      },
      "source": [
        "## Visualization"
      ]
    },
    {
      "cell_type": "code",
      "metadata": {
        "id": "YRh7p6Qrfjew"
      },
      "source": [
        "from sklearn.decomposition import PCA\n",
        "pca = PCA(n_components=2)\n",
        "x_PCA = pca.fit_transform(x_test)\n",
        "\n",
        "y_pred = model.predict(x_test)\n",
        "y_pred = np.argmax(y_pred, axis=1)\n",
        "\n",
        "spam = []\n",
        "ham = []\n",
        "for i in range(x_PCA.shape[0]):\n",
        "    if(y_pred[i] == 0):\n",
        "        ham.append(x_PCA[i])\n",
        "    else:\n",
        "        spam.append(x_PCA[i])\n",
        "spam = np.array(spam).reshape((-1,2))\n",
        "ham = np.array(ham).reshape((-1,2))"
      ],
      "execution_count": 31,
      "outputs": []
    },
    {
      "cell_type": "code",
      "metadata": {
        "colab": {
          "base_uri": "https://localhost:8080/",
          "height": 268
        },
        "id": "IDfiBPdGioAe",
        "outputId": "9708fd2e-ea86-42a9-ec98-81d865e0ff06"
      },
      "source": [
        "plt.scatter(ham[:,0], ham[:,1], marker='o', label=\"ham\")\n",
        "plt.scatter(spam[:,0], spam[:,1], marker='^', label=\"spam\")\n",
        "plt.legend()\n",
        "plt.show()"
      ],
      "execution_count": 32,
      "outputs": [
        {
          "output_type": "display_data",
          "data": {
            "image/png": "[encoded data removed]",
            "text/plain": [
              "<Figure size 432x288 with 1 Axes>"
            ]
          },
          "metadata": {
            "needs_background": "light"
          }
        }
      ]
    },
    {
      "cell_type": "code",
      "metadata": {
        "colab": {
          "base_uri": "https://localhost:8080/",
          "height": 351
        },
        "id": "lIYAsVi2leOi",
        "outputId": "8d6e404f-139a-4dc0-9b58-98d2c601439f"
      },
      "source": [
        "# Source: https://stackoverflow.com/questions/22294241/plotting-a-decision-boundary-separating-2-classes-using-matplotlibs-pyplot\n",
        "from sklearn.neighbors import KNeighborsClassifier\n",
        "import mglearn\n",
        "fig, axes = plt.subplots(1, 3, figsize=(15, 5))\n",
        "for n_neighbors, ax in zip([1, 3, 9], axes):\n",
        "    clf = KNeighborsClassifier(n_neighbors=n_neighbors).fit(x_PCA, y_pred)\n",
        "    mglearn.plots.plot_2d_separator(clf, x_PCA, fill=True, eps=0.5, ax=ax, alpha=.4)\n",
        "    mglearn.discrete_scatter(x_PCA[:, 0], x_PCA[:, 1], y_pred, ax=ax)\n",
        "    ax.set_title(\"{} neighbor(s)\".format(n_neighbors))\n",
        "    ax.set_xlabel(\"feature 0\")\n",
        "    ax.set_ylabel(\"feature 1\")\n",
        "axes[0].legend(loc=3)\n",
        "\n"
      ],
      "execution_count": 33,
      "outputs": [
        {
          "output_type": "execute_result",
          "data": {
            "text/plain": [
              "<matplotlib.legend.Legend at 0x7f06860600d0>"
            ]
          },
          "metadata": {},
          "execution_count": 33
        },
        {
          "output_type": "display_data",
          "data": {
            "image/png": "[encoded data removed]",
            "text/plain": [
              "<Figure size 1080x360 with 3 Axes>"
            ]
          },
          "metadata": {}
        }
      ]
    }
  ]
}