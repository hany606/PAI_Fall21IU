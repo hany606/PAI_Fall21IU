{
  "nbformat": 4,
  "nbformat_minor": 0,
  "metadata": {
    "kernelspec": {
      "display_name": "Python 3",
      "language": "python",
      "name": "python3"
    },
    "language_info": {
      "codemirror_mode": {
        "name": "ipython",
        "version": 3
      },
      "file_extension": ".py",
      "mimetype": "text/x-python",
      "name": "python",
      "nbconvert_exporter": "python",
      "pygments_lexer": "ipython3",
      "version": "3.7.4"
    },
    "colab": {
      "name": "02. A-star for path.ipynb",
      "provenance": []
    }
  },
  "cells": [
    {
      "cell_type": "markdown",
      "metadata": {
        "id": "xSHLGzI3jy4f"
      },
      "source": [
        "Notebook based on: https://github.com/hsu-ai-course/hsu.ai/blob/master/code/02.%20A-star%20for%20path.ipynb"
      ]
    },
    {
      "cell_type": "code",
      "metadata": {
        "id": "fDy4N74mgwU0"
      },
      "source": [
        "# Heuristic: http://theory.stanford.edu/~amitp/GameProgramming/Heuristics.html\n",
        "# distance between a and b\n",
        "def d(a, b):\n",
        "    # TODO: what kind of measure should we select L1, L2?\n",
        "    return ((a[0]-b[0])**2 + (a[1]-b[1])**2)**0.5\n",
        "\n",
        "\n",
        "# how far did we go?\n",
        "def g(lab, dist, position, destination):\n",
        "    # TODO: distance already covered\n",
        "    return d(position, destination)\n",
        "\n",
        "\n",
        "# lower-bound estimation for remaining path\n",
        "def h(lab, dist, position, destination):\n",
        "    # TODO: what is the best possible remainder?\n",
        "    sum = 0\n",
        "    for r in lab:\n",
        "      for c in r:\n",
        "        sum += (c == 2) \n",
        "    return sum\n",
        "\n",
        "\n",
        "def A_star(lab, dist, position, destination):\n",
        "    neighbours = [\n",
        "                    (1, 0), (0, 1), (-1, 0), (0, -1),\n",
        "                    (1, 1), (-1, 1), (1, -1), (-1, -1),\n",
        "                 ]   # 9-neghbourhood\n",
        "    candidates = []  # where go next?\n",
        "    \n",
        "    for neighbour in neighbours:\n",
        "        candidate = (position[0] + neighbour[0], position[1] + neighbour[1]) \n",
        "        # it is inside labyrinth\n",
        "        if 0 <= candidate[0] < len(lab) and 0 <= candidate[1] < len(lab[0]):\n",
        "            # it is accessible\n",
        "            if lab[candidate[0]][candidate[1]] == 0:\n",
        "                candidates.append(candidate)\n",
        "\n",
        "    # best choise\n",
        "    result, estimation = position, 10000000\n",
        "    for candidate in candidates:\n",
        "        new_dist = dist + d(position, candidate)\n",
        "        A = g(lab, new_dist, candidate, destination) + \\\n",
        "            h(lab, new_dist, candidate, destination)\n",
        "        # print(A, candidate)\n",
        "        if A < estimation:\n",
        "            result, estimation = candidate, A\n",
        "    lab[result[0]][result[1]] = 2   # visited\n",
        "    return result, d(result, position)"
      ],
      "execution_count": 16,
      "outputs": []
    },
    {
      "cell_type": "code",
      "metadata": {
        "id": "eU7S-Nc7gwU3"
      },
      "source": [
        "import matplotlib.pyplot as plt\n",
        "\n",
        "def show(matr):\n",
        "    plt.imshow(matr)\n",
        "    plt.show()"
      ],
      "execution_count": 2,
      "outputs": []
    },
    {
      "cell_type": "code",
      "metadata": {
        "colab": {
          "base_uri": "https://localhost:8080/",
          "height": 283
        },
        "id": "1cU3gwfzgwU3",
        "outputId": "cab2fae7-0bcc-4117-8bb4-cd451aeb8180"
      },
      "source": [
        "import time\n",
        "from IPython.display import clear_output\n",
        "\n",
        "size = 20\n",
        "line = list([0] * size)\n",
        "lab = [list(line) for i in range(size)]\n",
        "\n",
        "lab[0][0] = 3\n",
        "lab[7][10] = 1\n",
        "lab[8][10] = 1\n",
        "lab[9][10] = 1\n",
        "lab[9][9] = 1\n",
        "lab[9][8] = 1\n",
        "\n",
        "start = (0, 0)\n",
        "finish = (size-1, size-1)\n",
        "passed = 0\n",
        "while start != finish:\n",
        "# for i in range(5):\n",
        "    clear_output()\n",
        "    # print(lab)\n",
        "    start, delta = A_star(lab, passed, start, finish)\n",
        "    # print(delta)\n",
        "    print(\"Go to\", start)\n",
        "    show(lab)\n",
        "    time.sleep(0.3)\n",
        "    passed += delta"
      ],
      "execution_count": 17,
      "outputs": [
        {
          "output_type": "stream",
          "text": [
            "Go to (19, 19)\n"
          ],
          "name": "stdout"
        },
        {
          "output_type": "display_data",
          "data": {
            "image/png": "[encoded data removed]",
            "text/plain": [
              "<Figure size 432x288 with 1 Axes>"
            ]
          },
          "metadata": {
            "needs_background": "light"
          }
        }
      ]
    }
  ]
}