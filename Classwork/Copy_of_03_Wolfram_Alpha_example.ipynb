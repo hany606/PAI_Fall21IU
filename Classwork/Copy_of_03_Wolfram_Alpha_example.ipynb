{
  "nbformat": 4,
  "nbformat_minor": 0,
  "metadata": {
    "kernelspec": {
      "display_name": "Python 3",
      "language": "python",
      "name": "python3"
    },
    "language_info": {
      "codemirror_mode": {
        "name": "ipython",
        "version": 3
      },
      "file_extension": ".py",
      "mimetype": "text/x-python",
      "name": "python",
      "nbconvert_exporter": "python",
      "pygments_lexer": "ipython3",
      "version": "3.7.0"
    },
    "colab": {
      "name": "Copy of 03. Wolfram Alpha example.ipynb",
      "provenance": [],
      "collapsed_sections": []
    }
  },
  "cells": [
    {
      "cell_type": "markdown",
      "metadata": {
        "id": "DFqoDuGopKF7"
      },
      "source": [
        "# Based on: https://github.com/hsu-ai-course/hsu.ai/blob/master/code/03.%20Wolfram%20Alpha%20example.ipynb"
      ]
    },
    {
      "cell_type": "code",
      "metadata": {
        "collapsed": true,
        "id": "MQaHk8G7g8hv"
      },
      "source": [
        "import requests\n",
        "from bs4 import BeautifulSoup\n",
        "\n",
        "# 1. register at https://www.wolframalpha.com/\n",
        "# 2. Get App ID at http://developer.wolframalpha.com/portal/myapps/\n",
        "APP_NAME = \"Test\"\n",
        "APPID = open(\"wa.app.id\").read()\n",
        "API = \"http://api.wolframalpha.com/v2/query?input={}&appid={}\""
      ],
      "execution_count": 2,
      "outputs": []
    },
    {
      "cell_type": "code",
      "metadata": {
        "collapsed": true,
        "id": "kbCRlBoKg8hx"
      },
      "source": [
        "def ask(query):\n",
        "    print(\"Asking:\", query)\n",
        "    resp = requests.get(API.format(query, APPID))\n",
        "    if resp.status_code != 200:\n",
        "        return None\n",
        "    dom = BeautifulSoup(resp.text, \"lxml\")\n",
        "    result = dom.queryresult.findAll(\"pod\", id=\"Solution\")\n",
        "    print(result)\n",
        "    if not result:\n",
        "        result = dom.queryresult.findAll(\"pod\", id=\"Definite integral\")\n",
        "        print(result)\n",
        "        subpods = result[0].findAll(\"subpod\")\n",
        "        return list(pod.plaintext.string for pod in subpods)\n",
        "    if not result:\n",
        "        result = dom.queryresult.findAll(\"pod\", id=\"Result\")\n",
        "    if not result:\n",
        "        result = dom.queryresult.findAll(\"pod\", id=\"ChemicalNamesFormulas:ChemicalData\")\n",
        "\n",
        "    subpods = result[0].findAll(\"subpod\")\n",
        "    return list(pod.plaintext.string for pod in subpods)"
      ],
      "execution_count": 34,
      "outputs": []
    },
    {
      "cell_type": "code",
      "metadata": {
        "id": "zhRZ8a5jg8hy",
        "colab": {
          "base_uri": "https://localhost:8080/"
        },
        "outputId": "eadbbb94-22bf-41be-cc57-90af277aa269"
      },
      "source": [
        "response = ask(\"x^2=2\")\n",
        "# print(*response, sep=\"; \")\n",
        "# print(\"=====================\")\n",
        "# response = ask(\"Woodstock people\")\n",
        "# print(*response, sep=\"; \")\n",
        "# print(\"=====================\")\n",
        "# response = ask(\"maltodextrin chemistry\")\n",
        "# print(*response, sep=\"; \")"
      ],
      "execution_count": 23,
      "outputs": [
        {
          "output_type": "stream",
          "text": [
            "Asking: x^2=2\n",
            "<?xml version='1.0' encoding='UTF-8'?><html><body><queryresult datatypes=\"\" error=\"false\" host=\"https://www5a.wolframalpha.com\" id=\"MSP170524caa4bic38ac30600005a5e7c9i0752b9gc\" inputstring=\"x^2=2\" numpods=\"5\" parsetimedout=\"false\" parsetiming=\"0.264\" recalculate=\"\" related=\"https://www5a.wolframalpha.com/api/v1/relatedQueries.jsp?id=MSPa170624caa4bic38ac30600002958eea82g4a34bd1055676072321684447\" server=\"49\" success=\"true\" timedout=\"\" timedoutpods=\"\" timing=\"1.069\" version=\"2.6\" xml:space=\"preserve\">\n",
            "<pod error=\"false\" id=\"Input\" numsubpods=\"1\" position=\"100\" scanner=\"Identity\" title=\"Input\">\n",
            "<subpod title=\"\">\n",
            "<img alt=\"x^2 = 2\" colorinvertable=\"true\" height=\"21\" src=\"https://www5a.wolframalpha.com/Calculate/MSP/MSP170724caa4bic38ac30600001d25345dddei75c4?MSPStoreType=image/gif&amp;s=49\" themes=\"1,2,3,4,5,6,7,8,9,10,11,12\" title=\"x^2 = 2\" type=\"Default\" width=\"44\"/>\n",
            "<plaintext>x^2 = 2</plaintext>\n",
            "</subpod>\n",
            "<expressiontypes count=\"1\">\n",
            "<expressiontype name=\"Default\"></expressiontype>\n",
            "</expressiontypes>\n",
            "</pod>\n",
            "<pod error=\"false\" id=\"RootPlot\" numsubpods=\"1\" position=\"200\" scanner=\"Reduce\" title=\"Plot\">\n",
            "<subpod title=\"\">\n",
            "<img alt=\"Plot\" colorinvertable=\"true\" height=\"212\" src=\"https://www5a.wolframalpha.com/Calculate/MSP/MSP170824caa4bic38ac30600003e64fd31ae8g4hc7?MSPStoreType=image/gif&amp;s=49\" themes=\"1,2,3,4,5,6,7,8,9,10,11,12\" title=\"\" type=\"2DMathPlot_1\" width=\"373\"/>\n",
            "<plaintext></plaintext>\n",
            "</subpod>\n",
            "<expressiontypes count=\"1\">\n",
            "<expressiontype name=\"Default\"></expressiontype>\n",
            "</expressiontypes>\n",
            "</pod>\n",
            "<pod error=\"false\" id=\"AlternateForm\" numsubpods=\"1\" position=\"300\" scanner=\"Simplification\" title=\"Alternate form\">\n",
            "<subpod title=\"\">\n",
            "<img alt=\"x^2 - 2 = 0\" colorinvertable=\"true\" height=\"21\" src=\"https://www5a.wolframalpha.com/Calculate/MSP/MSP170924caa4bic38ac30600004cdb1cfe7h6c67h8?MSPStoreType=image/gif&amp;s=49\" themes=\"1,2,3,4,5,6,7,8,9,10,11,12\" title=\"x^2 - 2 = 0\" type=\"Default\" width=\"68\"/>\n",
            "<plaintext>x^2 - 2 = 0</plaintext>\n",
            "</subpod>\n",
            "<expressiontypes count=\"1\">\n",
            "<expressiontype name=\"Default\"></expressiontype>\n",
            "</expressiontypes>\n",
            "</pod>\n",
            "<pod error=\"false\" id=\"NumberLine\" numsubpods=\"1\" position=\"400\" scanner=\"Reduce\" title=\"Number line\">\n",
            "<subpod title=\"\">\n",
            "<img alt=\"Number line\" colorinvertable=\"true\" height=\"39\" src=\"https://www5a.wolframalpha.com/Calculate/MSP/MSP171024caa4bic38ac30600006abe0378i56060hg?MSPStoreType=image/gif&amp;s=49\" themes=\"1,2,3,4,5,6,7,8,9,10,11,12\" title=\"\" type=\"Default\" width=\"340\"/>\n",
            "<plaintext></plaintext>\n",
            "</subpod>\n",
            "<expressiontypes count=\"1\">\n",
            "<expressiontype name=\"Default\"></expressiontype>\n",
            "</expressiontypes>\n",
            "</pod>\n",
            "<pod error=\"false\" id=\"Solution\" numsubpods=\"2\" position=\"500\" primary=\"true\" scanner=\"Reduce\" title=\"Solutions\">\n",
            "<subpod title=\"\">\n",
            "<img alt=\"x = -sqrt(2)\" colorinvertable=\"true\" height=\"23\" src=\"https://www5a.wolframalpha.com/Calculate/MSP/MSP171124caa4bic38ac30600003673fb8359aaf73h?MSPStoreType=image/gif&amp;s=49\" themes=\"1,2,3,4,5,6,7,8,9,10,11,12\" title=\"x = -sqrt(2)\" type=\"Default\" width=\"550\"/>\n",
            "<plaintext>x = -sqrt(2)</plaintext>\n",
            "</subpod>\n",
            "<subpod title=\"\">\n",
            "<img alt=\"x = sqrt(2)\" colorinvertable=\"true\" height=\"23\" src=\"https://www5a.wolframalpha.com/Calculate/MSP/MSP171224caa4bic38ac30600002gifhe0a5a9iii9d?MSPStoreType=image/gif&amp;s=49\" themes=\"1,2,3,4,5,6,7,8,9,10,11,12\" title=\"x = sqrt(2)\" type=\"Default\" width=\"550\"/>\n",
            "<plaintext>x = sqrt(2)</plaintext>\n",
            "</subpod>\n",
            "<expressiontypes count=\"2\">\n",
            "<expressiontype name=\"Default\"></expressiontype>\n",
            "<expressiontype name=\"Default\"></expressiontype>\n",
            "</expressiontypes>\n",
            "<states count=\"2\">\n",
            "<state input=\"Solution__Approximate forms\" name=\"Approximate forms\"></state>\n",
            "<state input=\"Solution__Step-by-step solution\" name=\"Step-by-step solution\" stepbystep=\"true\"></state>\n",
            "</states>\n",
            "</pod>\n",
            "</queryresult></body></html>\n",
            "[<pod error=\"false\" id=\"Solution\" numsubpods=\"2\" position=\"500\" primary=\"true\" scanner=\"Reduce\" title=\"Solutions\">\n",
            "<subpod title=\"\">\n",
            "<img alt=\"x = -sqrt(2)\" colorinvertable=\"true\" height=\"23\" src=\"https://www5a.wolframalpha.com/Calculate/MSP/MSP171124caa4bic38ac30600003673fb8359aaf73h?MSPStoreType=image/gif&amp;s=49\" themes=\"1,2,3,4,5,6,7,8,9,10,11,12\" title=\"x = -sqrt(2)\" type=\"Default\" width=\"550\"/>\n",
            "<plaintext>x = -sqrt(2)</plaintext>\n",
            "</subpod>\n",
            "<subpod title=\"\">\n",
            "<img alt=\"x = sqrt(2)\" colorinvertable=\"true\" height=\"23\" src=\"https://www5a.wolframalpha.com/Calculate/MSP/MSP171224caa4bic38ac30600002gifhe0a5a9iii9d?MSPStoreType=image/gif&amp;s=49\" themes=\"1,2,3,4,5,6,7,8,9,10,11,12\" title=\"x = sqrt(2)\" type=\"Default\" width=\"550\"/>\n",
            "<plaintext>x = sqrt(2)</plaintext>\n",
            "</subpod>\n",
            "<expressiontypes count=\"2\">\n",
            "<expressiontype name=\"Default\"></expressiontype>\n",
            "<expressiontype name=\"Default\"></expressiontype>\n",
            "</expressiontypes>\n",
            "<states count=\"2\">\n",
            "<state input=\"Solution__Approximate forms\" name=\"Approximate forms\"></state>\n",
            "<state input=\"Solution__Step-by-step solution\" name=\"Step-by-step solution\" stepbystep=\"true\"></state>\n",
            "</states>\n",
            "</pod>]\n"
          ],
          "name": "stdout"
        }
      ]
    },
    {
      "cell_type": "markdown",
      "metadata": {
        "id": "9twSK-Dsg8hy"
      },
      "source": [
        "## Compute definite integral\n",
        "\n",
        "using Wolpfram|Alpha\n",
        "\n",
        "$$\\int _{0}^{1}{\\sqrt {x}}\\,dx$$"
      ]
    },
    {
      "cell_type": "code",
      "metadata": {
        "id": "FWh8Qvdlg8hz",
        "colab": {
          "base_uri": "https://localhost:8080/",
          "height": 416
        },
        "outputId": "d3109283-b6cd-4d14-ca3a-7c18f659e89d"
      },
      "source": [
        "response = ask(\"int sinx/x dx, x=0..infinity\") # https://api.wolframalpha.com/v2/query?input=int%20sinx/x%20dx,%20x=0..infinity&appid=54L63W-YTGRHUGP2H\n",
        "\n",
        "# response = ask(\"maltodextrin chemistry\")\n",
        "# response = ask(\"int x^5 dx\")\n",
        "# print(*response, sep=\"; \")"
      ],
      "execution_count": 35,
      "outputs": [
        {
          "output_type": "stream",
          "text": [
            "Asking: int sinx/x dx, x=0..infinity\n",
            "[]\n",
            "[]\n"
          ],
          "name": "stdout"
        },
        {
          "output_type": "error",
          "ename": "IndexError",
          "evalue": "ignored",
          "traceback": [
            "\u001b[0;31m---------------------------------------------------------------------------\u001b[0m",
            "\u001b[0;31mIndexError\u001b[0m                                Traceback (most recent call last)",
            "\u001b[0;32m<ipython-input-35-604cfa06789c>\u001b[0m in \u001b[0;36m<module>\u001b[0;34m()\u001b[0m\n\u001b[0;32m----> 1\u001b[0;31m \u001b[0mresponse\u001b[0m \u001b[0;34m=\u001b[0m \u001b[0mask\u001b[0m\u001b[0;34m(\u001b[0m\u001b[0;34m\"int sinx/x dx, x=0..infinity\"\u001b[0m\u001b[0;34m)\u001b[0m\u001b[0;34m\u001b[0m\u001b[0;34m\u001b[0m\u001b[0m\n\u001b[0m\u001b[1;32m      2\u001b[0m \u001b[0;34m\u001b[0m\u001b[0m\n\u001b[1;32m      3\u001b[0m \u001b[0;31m# response = ask(\"maltodextrin chemistry\")\u001b[0m\u001b[0;34m\u001b[0m\u001b[0;34m\u001b[0m\u001b[0;34m\u001b[0m\u001b[0m\n\u001b[1;32m      4\u001b[0m \u001b[0;31m# response = ask(\"int x^5 dx\")\u001b[0m\u001b[0;34m\u001b[0m\u001b[0;34m\u001b[0m\u001b[0;34m\u001b[0m\u001b[0m\n\u001b[1;32m      5\u001b[0m \u001b[0;31m# print(*response, sep=\"; \")\u001b[0m\u001b[0;34m\u001b[0m\u001b[0;34m\u001b[0m\u001b[0;34m\u001b[0m\u001b[0m\n",
            "\u001b[0;32m<ipython-input-34-7c40fb65ac4e>\u001b[0m in \u001b[0;36mask\u001b[0;34m(query)\u001b[0m\n\u001b[1;32m     10\u001b[0m         \u001b[0mresult\u001b[0m \u001b[0;34m=\u001b[0m \u001b[0mdom\u001b[0m\u001b[0;34m.\u001b[0m\u001b[0mqueryresult\u001b[0m\u001b[0;34m.\u001b[0m\u001b[0mfindAll\u001b[0m\u001b[0;34m(\u001b[0m\u001b[0;34m\"pod\"\u001b[0m\u001b[0;34m,\u001b[0m \u001b[0mid\u001b[0m\u001b[0;34m=\u001b[0m\u001b[0;34m\"Definite integral\"\u001b[0m\u001b[0;34m)\u001b[0m\u001b[0;34m\u001b[0m\u001b[0;34m\u001b[0m\u001b[0m\n\u001b[1;32m     11\u001b[0m         \u001b[0mprint\u001b[0m\u001b[0;34m(\u001b[0m\u001b[0mresult\u001b[0m\u001b[0;34m)\u001b[0m\u001b[0;34m\u001b[0m\u001b[0;34m\u001b[0m\u001b[0m\n\u001b[0;32m---> 12\u001b[0;31m         \u001b[0msubpods\u001b[0m \u001b[0;34m=\u001b[0m \u001b[0mresult\u001b[0m\u001b[0;34m[\u001b[0m\u001b[0;36m0\u001b[0m\u001b[0;34m]\u001b[0m\u001b[0;34m.\u001b[0m\u001b[0mfindAll\u001b[0m\u001b[0;34m(\u001b[0m\u001b[0;34m\"subpod\"\u001b[0m\u001b[0;34m)\u001b[0m\u001b[0;34m\u001b[0m\u001b[0;34m\u001b[0m\u001b[0m\n\u001b[0m\u001b[1;32m     13\u001b[0m         \u001b[0;32mreturn\u001b[0m \u001b[0mlist\u001b[0m\u001b[0;34m(\u001b[0m\u001b[0mpod\u001b[0m\u001b[0;34m.\u001b[0m\u001b[0mplaintext\u001b[0m\u001b[0;34m.\u001b[0m\u001b[0mstring\u001b[0m \u001b[0;32mfor\u001b[0m \u001b[0mpod\u001b[0m \u001b[0;32min\u001b[0m \u001b[0msubpods\u001b[0m\u001b[0;34m)\u001b[0m\u001b[0;34m\u001b[0m\u001b[0;34m\u001b[0m\u001b[0m\n\u001b[1;32m     14\u001b[0m     \u001b[0;32mif\u001b[0m \u001b[0;32mnot\u001b[0m \u001b[0mresult\u001b[0m\u001b[0;34m:\u001b[0m\u001b[0;34m\u001b[0m\u001b[0;34m\u001b[0m\u001b[0m\n",
            "\u001b[0;31mIndexError\u001b[0m: list index out of range"
          ]
        }
      ]
    }
  ]
}