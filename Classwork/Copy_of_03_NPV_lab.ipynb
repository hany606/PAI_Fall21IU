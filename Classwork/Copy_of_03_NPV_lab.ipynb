{
  "nbformat": 4,
  "nbformat_minor": 0,
  "metadata": {
    "kernelspec": {
      "display_name": "Python 3",
      "language": "python",
      "name": "python3"
    },
    "language_info": {
      "codemirror_mode": {
        "name": "ipython",
        "version": 3
      },
      "file_extension": ".py",
      "mimetype": "text/x-python",
      "name": "python",
      "nbconvert_exporter": "python",
      "pygments_lexer": "ipython3",
      "version": "3.8.5"
    },
    "colab": {
      "name": "Copy of 03. NPV lab.ipynb",
      "provenance": [],
      "collapsed_sections": [
        "n-jZ3L_ll-1g"
      ]
    }
  },
  "cells": [
    {
      "cell_type": "markdown",
      "metadata": {
        "id": "IXrpz5tOo9Iz"
      },
      "source": [
        "# Based on https://github.com/hsu-ai-course/hsu.ai/blob/master/code/03.%20NPV%20lab.ipynb"
      ]
    },
    {
      "cell_type": "code",
      "metadata": {
        "id": "iybmPJASl-1d",
        "colab": {
          "base_uri": "https://localhost:8080/"
        },
        "outputId": "b3bfdab6-e66b-43f0-80eb-68318224ca35"
      },
      "source": [
        "!pip install sympy"
      ],
      "execution_count": 2,
      "outputs": [
        {
          "output_type": "stream",
          "text": [
            "Requirement already satisfied: sympy in /usr/local/lib/python3.7/dist-packages (1.7.1)\n",
            "Requirement already satisfied: mpmath>=0.19 in /usr/local/lib/python3.7/dist-packages (from sympy) (1.2.1)\n"
          ],
          "name": "stdout"
        }
      ]
    },
    {
      "cell_type": "code",
      "metadata": {
        "id": "rhX_-vtXl-1g"
      },
      "source": [
        "# find discount rate, that will give positive NPV for a given cash flow\n",
        "# search for real roots only\n",
        "import sympy"
      ],
      "execution_count": 1,
      "outputs": []
    },
    {
      "cell_type": "markdown",
      "metadata": {
        "id": "n-jZ3L_ll-1g"
      },
      "source": [
        "# Simple example"
      ]
    },
    {
      "cell_type": "code",
      "metadata": {
        "id": "Em8uyxy8l-1h",
        "colab": {
          "base_uri": "https://localhost:8080/"
        },
        "outputId": "f1e021cd-6f67-456c-f81a-69379e9d581e"
      },
      "source": [
        "x, y = sympy.symbols(\"x y\")\n",
        "function = x ** 2 + x ** 3\n",
        "print(type(function), function)\n",
        "\n",
        "equation = sympy.Eq(function, y)\n",
        "print(type(equation), equation)\n",
        "\n",
        "print(sympy.solveset(equation, x))\n",
        "print(sympy.solveset(equation, y))\n",
        "\n",
        "print()\n",
        "equation = sympy.Eq(function, 4)\n",
        "print(type(equation), equation)\n",
        "print(\"All  \", sympy.solveset(equation, x))\n",
        "print(\"Real \", sympy.solveset(equation, x, domain=sympy.S.Reals))\n",
        "print(\"Float\", sympy.solveset(equation, x, domain=sympy.S.Reals).evalf())"
      ],
      "execution_count": 3,
      "outputs": [
        {
          "output_type": "stream",
          "text": [
            "<class 'sympy.core.add.Add'> x**3 + x**2\n",
            "<class 'sympy.core.relational.Equality'> Eq(x**3 + x**2, y)\n",
            "FiniteSet(-(-27*y/2 + sqrt((2 - 27*y)**2 - 4)/2 + 1)**(1/3)/3 - 1/3 - 1/(3*(-27*y/2 + sqrt((2 - 27*y)**2 - 4)/2 + 1)**(1/3)), -(-1/2 - sqrt(3)*I/2)*(-27*y/2 + sqrt((2 - 27*y)**2 - 4)/2 + 1)**(1/3)/3 - 1/3 - 1/(3*(-1/2 - sqrt(3)*I/2)*(-27*y/2 + sqrt((2 - 27*y)**2 - 4)/2 + 1)**(1/3)), -(-1/2 + sqrt(3)*I/2)*(-27*y/2 + sqrt((2 - 27*y)**2 - 4)/2 + 1)**(1/3)/3 - 1/3 - 1/(3*(-1/2 + sqrt(3)*I/2)*(-27*y/2 + sqrt((2 - 27*y)**2 - 4)/2 + 1)**(1/3)))\n",
            "FiniteSet(x**3 + x**2)\n",
            "\n",
            "<class 'sympy.core.relational.Equality'> Eq(x**3 + x**2, 4)\n",
            "All   FiniteSet(-1/3 + 1/(9*(2*sqrt(78)/9 + 53/27)**(1/3)) + (2*sqrt(78)/9 + 53/27)**(1/3), -(2*sqrt(78)/9 + 53/27)**(1/3)/2 - 1/3 - 1/(18*(2*sqrt(78)/9 + 53/27)**(1/3)) + I*(-sqrt(3)/(18*(2*sqrt(78)/9 + 53/27)**(1/3)) + sqrt(3)*(2*sqrt(78)/9 + 53/27)**(1/3)/2), -(2*sqrt(78)/9 + 53/27)**(1/3)/2 - 1/3 - 1/(18*(2*sqrt(78)/9 + 53/27)**(1/3)) + I*(-sqrt(3)*(2*sqrt(78)/9 + 53/27)**(1/3)/2 + sqrt(3)/(18*(2*sqrt(78)/9 + 53/27)**(1/3))))\n",
            "Real  FiniteSet(-1/3 + 1/(9*(2*sqrt(78)/9 + 53/27)**(1/3)) + (2*sqrt(78)/9 + 53/27)**(1/3))\n",
            "Float FiniteSet(1.31459621227675)\n"
          ],
          "name": "stdout"
        }
      ]
    },
    {
      "cell_type": "markdown",
      "metadata": {
        "id": "G96o0O6Xl-1i"
      },
      "source": [
        "# NPV task. \n",
        "Evaluate discount rate given NPV > 0 and cash flow"
      ]
    },
    {
      "cell_type": "code",
      "metadata": {
        "id": "5JIkbCCNl-1i"
      },
      "source": [
        "def discount_rate(cashflow, npv):\n",
        "    r = sympy.symbols('r')\n",
        "    T = len(cashflow) - 1\n",
        "    sum_ = 0 \n",
        "    for i, x in enumerate(cashflow):\n",
        "        sum_ = sum_ + (x /(1 + r) ** i)\n",
        "    print(sum_)\n",
        "    s = 0.0\n",
        "    # write your code here\n",
        "    equation = sympy.Eq(sum_, 0)\n",
        "    # solution = (sympy.solveset(equation, r, domain=sympy.S.Reals))\n",
        "    solution = (sympy.solveset(equation, r))\n",
        "\n",
        "    floats = [s.evalf() for s in solution]\n",
        "    ans = []\n",
        "    for f in floats:\n",
        "      if( isinstance(f, sympy.core.numbers.Float)):\n",
        "        ans.append(f)\n",
        "    return ans"
      ],
      "execution_count": 53,
      "outputs": []
    },
    {
      "cell_type": "code",
      "metadata": {
        "id": "K961tHTQl-1i",
        "colab": {
          "base_uri": "https://localhost:8080/"
        },
        "outputId": "e0b3ad98-e12a-4156-e600-b5c20c1a6004"
      },
      "source": [
        "# print([type(i) for i in discount_rate([-100, 50, 50, 50, 60], 0.001)])\n",
        "print([(i) for i in discount_rate([-100, 50, 50, 50, 60], 0.001)])\n"
      ],
      "execution_count": 55,
      "outputs": [
        {
          "output_type": "stream",
          "text": [
            "-100 + 50/(r + 1) + 50/(r + 1)**2 + 50/(r + 1)**3 + 60/(r + 1)**4\n",
            "[0.367557351243825, -1.74059975497509]\n"
          ],
          "name": "stdout"
        }
      ]
    }
  ]
}